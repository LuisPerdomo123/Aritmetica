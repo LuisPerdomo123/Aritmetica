{
  "nbformat": 4,
  "nbformat_minor": 0,
  "metadata": {
    "colab": {
      "provenance": [],
      "authorship_tag": "ABX9TyOog5GvfVQOizd5qAedpeZm",
      "include_colab_link": true
    },
    "kernelspec": {
      "name": "python3",
      "display_name": "Python 3"
    },
    "language_info": {
      "name": "python"
    }
  },
  "cells": [
    {
      "cell_type": "markdown",
      "metadata": {
        "id": "view-in-github",
        "colab_type": "text"
      },
      "source": [
        "<a href=\"https://colab.research.google.com/github/LuisPerdomo123/Aritmetica/blob/master/atbach.ipynb\" target=\"_parent\"><img src=\"https://colab.research.google.com/assets/colab-badge.svg\" alt=\"Open In Colab\"/></a>"
      ]
    },
    {
      "cell_type": "code",
      "execution_count": 2,
      "metadata": {
        "id": "L7JyfSFpS-NW"
      },
      "outputs": [],
      "source": [
        "# Cibra atbash\n",
        "\n",
        "import pyperclip\n",
        "\n",
        "# Alfabetos empleados\n",
        "CLARO = 'abcdefghijklmnopqrstuvwxyz'\n",
        "CIFRADO = 'ZYXWVUTSRQPONMLKJIHGFEDCBA'\n",
        "\n",
        "# Almacenada la forma cifrada/descifrada del texto\n",
        "salida = ''\n",
        "\n"
      ]
    },
    {
      "cell_type": "markdown",
      "source": [],
      "metadata": {
        "id": "OlYsDcODTX_4"
      }
    }
  ]
}